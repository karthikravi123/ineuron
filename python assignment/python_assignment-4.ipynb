{
 "cells": [
  {
   "cell_type": "markdown",
   "id": "db807cd7",
   "metadata": {},
   "source": [
    "###### Write a Python Program(with class concepts) to find the area of the triangle using the below formula.\n",
    "\n",
    "area = (s*(s-a)*(s-b)*(s-c)) ** 0.5\n",
    "\n",
    "Function to take the length of the sides of triangle from user should be defined in the parent\n",
    "\n",
    "class and function to calculate the area should be defined in subclass."
   ]
  },
  {
   "cell_type": "code",
   "execution_count": 7,
   "id": "ef0f67dd",
   "metadata": {},
   "outputs": [],
   "source": [
    "class Triangle:\n",
    "    def __init__(self):\n",
    "        self.a = float(input(\"enter side a\"))\n",
    "        self.b = float(input(\"enter side b\"))\n",
    "        self.c = float(input('enter side c'))\n",
    "        \n",
    "class Area(Triangle):\n",
    "    def area(self):\n",
    "        s = (self.a+self.b+self.c)/2\n",
    "        area = (s*(s-self.a)*(s-self.b)*(s-self.c))**0.5\n",
    "        print(f\"Area of triangle is {area :.3f}cm\\\\u00b2\")\n"
   ]
  },
  {
   "cell_type": "code",
   "execution_count": 8,
   "id": "901096a3",
   "metadata": {},
   "outputs": [
    {
     "name": "stdout",
     "output_type": "stream",
     "text": [
      "enter side a3\n",
      "enter side b4\n",
      "enter side c5\n",
      "Area of triangle is 6.000cm\\u00b2\n"
     ]
    }
   ],
   "source": [
    "a = Area()\n",
    "a.area()"
   ]
  },
  {
   "cell_type": "markdown",
   "id": "ae4d99d4",
   "metadata": {},
   "source": [
    "###### Write a function filter_long_words() that takes a list of words and an integer n and returns\n",
    "the list of words that are longer than n."
   ]
  },
  {
   "cell_type": "code",
   "execution_count": 30,
   "id": "aafad9f9",
   "metadata": {},
   "outputs": [
    {
     "name": "stdout",
     "output_type": "stream",
     "text": [
      "['computer science', 'data science']\n"
     ]
    }
   ],
   "source": [
    "def filter_long_words(words, n):\n",
    "    l = list()\n",
    "    for i in words:\n",
    "        if len(i) > n:\n",
    "            l.append(i)\n",
    "    return l\n",
    "lst = [\"hello\", \"world\", \"name\", \"words\", \"computer science\", \"data science\"]\n",
    "print(filter_long_words(lst, 5))"
   ]
  },
  {
   "cell_type": "markdown",
   "id": "f29c2391",
   "metadata": {},
   "source": [
    "#### Write a Python program using function concept that maps list of words into a list of integers\n",
    "representing the lengths of the corresponding words.\n",
    "\n",
    "Hint: If a list [ ab,cde,erty] is passed on to the python function output should come as [2,3,4]\n",
    "\n",
    "Here 2,3 and 4 are the lengths of the words in the list."
   ]
  },
  {
   "cell_type": "code",
   "execution_count": 33,
   "id": "4b83a8d6",
   "metadata": {},
   "outputs": [
    {
     "name": "stdout",
     "output_type": "stream",
     "text": [
      "[2, 3, 4]\n"
     ]
    }
   ],
   "source": [
    "def word_len(words):\n",
    "    return len(words)\n",
    "l = ['ab','cde','enty']\n",
    "result =map(word_len,l)\n",
    "print(list(result))"
   ]
  },
  {
   "cell_type": "markdown",
   "id": "0b1c91f3",
   "metadata": {},
   "source": [
    "##### 2.2 Write a Python function which takes a character (i.e. a string of length 1) and returns True if\n",
    "it is a vowel, False otherwise.\n"
   ]
  },
  {
   "cell_type": "code",
   "execution_count": 35,
   "id": "bc499b6d",
   "metadata": {},
   "outputs": [
    {
     "name": "stdout",
     "output_type": "stream",
     "text": [
      "enter a charq\n",
      "False\n"
     ]
    }
   ],
   "source": [
    "def vowel_char(char):\n",
    "    if char == 'a'  or char == 'e' or char == 'i' or char == 'o' or char == 'u':\n",
    "        return True\n",
    "    else:\n",
    "        return False\n",
    "char = input(\"enter a char\")\n",
    "print(vowel_char(char))"
   ]
  },
  {
   "cell_type": "code",
   "execution_count": null,
   "id": "f4babe6b",
   "metadata": {},
   "outputs": [],
   "source": []
  }
 ],
 "metadata": {
  "kernelspec": {
   "display_name": "Python 3 (ipykernel)",
   "language": "python",
   "name": "python3"
  },
  "language_info": {
   "codemirror_mode": {
    "name": "ipython",
    "version": 3
   },
   "file_extension": ".py",
   "mimetype": "text/x-python",
   "name": "python",
   "nbconvert_exporter": "python",
   "pygments_lexer": "ipython3",
   "version": "3.8.8"
  }
 },
 "nbformat": 4,
 "nbformat_minor": 5
}
