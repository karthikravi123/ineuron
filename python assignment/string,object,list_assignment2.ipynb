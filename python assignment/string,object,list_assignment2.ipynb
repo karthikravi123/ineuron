{
 "cells": [
  {
   "cell_type": "code",
   "execution_count": 14,
   "metadata": {},
   "outputs": [
    {
     "name": "stdout",
     "output_type": "stream",
     "text": [
      "enter the number of row to be printed 5\n",
      " \n",
      "*  \n",
      "* *  \n",
      "* * *  \n",
      "* * * *  \n",
      "* * * * *  \n",
      "* * * *  \n",
      "* * *  \n",
      "* *  \n",
      "* "
     ]
    }
   ],
   "source": [
    "n = int(input(\"enter the number of row to be printed \"))\n",
    "for i in range(1,n+1):\n",
    "    print(\" \")\n",
    "    for j in range(1,i+1):\n",
    "        print(\"*\",end=\" \")    \n",
    "for i in range(n-1,0,-1):\n",
    "    print(\" \")\n",
    "    for j in range(1,i+1):\n",
    "        print(\"*\",end=\" \")        "
   ]
  },
  {
   "cell_type": "code",
   "execution_count": 17,
   "metadata": {},
   "outputs": [
    {
     "name": "stdout",
     "output_type": "stream",
     "text": [
      "enter the word to reverse ineuron\n",
      "The reversed word is \n",
      "norueni\n"
     ]
    }
   ],
   "source": [
    "str1 = input(\"enter the word to reverse \")\n",
    "print(\"The reversed word is \")\n",
    "print(str1[::-1])"
   ]
  },
  {
   "cell_type": "code",
   "execution_count": null,
   "metadata": {},
   "outputs": [],
   "source": []
  }
 ],
 "metadata": {
  "kernelspec": {
   "display_name": "Python 3",
   "language": "python",
   "name": "python3"
  },
  "language_info": {
   "codemirror_mode": {
    "name": "ipython",
    "version": 3
   },
   "file_extension": ".py",
   "mimetype": "text/x-python",
   "name": "python",
   "nbconvert_exporter": "python",
   "pygments_lexer": "ipython3",
   "version": "3.8.5"
  }
 },
 "nbformat": 4,
 "nbformat_minor": 4
}
