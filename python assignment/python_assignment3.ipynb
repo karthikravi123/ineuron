{
 "cells": [
  {
   "cell_type": "markdown",
   "id": "d5629efd",
   "metadata": {},
   "source": [
    "###### Implement List comprehensions to produce the following lists.\n",
    "\n",
    "Write List comprehensions to produce the following Lists\n",
    "\n",
    "\n",
    "['x', 'xx', 'xxx', 'xxxx', 'y', 'yy', 'yyy', 'yyyy', 'z', 'zz', 'zzz', 'zzzz']\n",
    "\n",
    "['x', 'y', 'z', 'xx', 'yy', 'zz', 'xxx', 'yyy', 'zzz', 'xxxx', 'yyyy', 'zzzz']\n",
    "\n",
    "[[2], [3], [4], [3], [4], [5], [4], [5], [6]]\n",
    "\n",
    "[[2, 3, 4, 5], [3, 4, 5, 6],[4, 5, 6, 7], [5, 6, 7, 8]]\n",
    "\n",
    "[(1, 1), (2, 1), (3, 1), (1, 2), (2, 2), (3, 2), (1, 3), (2, 3), (3, 3)]"
   ]
  },
  {
   "cell_type": "code",
   "execution_count": 38,
   "id": "5229eebb",
   "metadata": {},
   "outputs": [
    {
     "name": "stdout",
     "output_type": "stream",
     "text": [
      "['x', 'xx', 'xxx', 'xxxx', 'y', 'yy', 'yyy', 'yyyy', 'z', 'zz', 'zzz', 'zzzz']\n",
      " \n",
      "['x', 'y', 'z', 'xx', 'yy', 'zz', 'xxx', 'yyy', 'zzz', 'xxxx', 'yyyy', 'zzzz']\n",
      " \n",
      "[[2], [3], [4], [3], [4], [5], [4], [5], [6]]\n",
      " \n",
      "[[2, 3, 4, 5], [3, 4, 5, 6], [4, 5, 6, 7], [5, 6, 7, 8]]\n",
      " \n",
      "[(1, 1), (2, 1), (3, 1), (1, 2), (2, 2), (3, 2), (1, 3), (2, 3), (3, 3)]\n"
     ]
    }
   ],
   "source": [
    "l1 = ['x','y','z']\n",
    "list_1 = [i*j for i in l1 for j in range(1,5)]\n",
    "print(list_1)\n",
    "\n",
    "print(\" \")\n",
    "\n",
    "list2 = [i*j for i in range(1,5) for j in l1]\n",
    "print(list2)\n",
    "\n",
    "print(\" \")\n",
    "\n",
    "l3 = [2,3,4]\n",
    "list3 = [[i+j] for i in l3 for j in range(0,3)]\n",
    "print(list3)\n",
    "\n",
    "print(\" \")\n",
    "\n",
    "l4 = [2,3,4,5]\n",
    "list4 = [ [i+j for i in l4] for j in range(0,4)]\n",
    "print(list4)\n",
    "\n",
    "print(\" \")\n",
    "\n",
    "l5 = [1,2,3]\n",
    "list5 = [(j,i) for i in l5 for j in l5]\n",
    "print(list5)"
   ]
  },
  {
   "cell_type": "markdown",
   "id": "a8f6351e",
   "metadata": {},
   "source": [
    "##### Write a Python program to implement your own myfilter() function which works exactly like Python's built-in function filter()"
   ]
  },
  {
   "cell_type": "code",
   "execution_count": 14,
   "id": "775ee94e",
   "metadata": {},
   "outputs": [
    {
     "name": "stdout",
     "output_type": "stream",
     "text": [
      "[2, 4, 6, 8, 10, 12, 22]\n"
     ]
    }
   ],
   "source": [
    "def myfilter(is_even,a):\n",
    "    return is_even(a)\n",
    "l2 = [1,2,3,4,5,6,7,8,9,10,12,22]\n",
    "l3 = []\n",
    "\n",
    "def is_even(a):\n",
    "    for i in l2:\n",
    "        if i%2==0:\n",
    "            l3.append(i)\n",
    "    print(l3)\n",
    "\n",
    "myfilter(is_even,l2)"
   ]
  },
  {
   "cell_type": "markdown",
   "id": "97691239",
   "metadata": {},
   "source": [
    "##### Write a Python Program to implement your own myreduce() function which works exactly like Python's built-in function reduce()"
   ]
  },
  {
   "cell_type": "code",
   "execution_count": 16,
   "id": "862ea715",
   "metadata": {},
   "outputs": [
    {
     "name": "stdout",
     "output_type": "stream",
     "text": [
      "55\n"
     ]
    }
   ],
   "source": [
    "def my_reduce(add,list1):\n",
    "    return a\n",
    "\n",
    "def add(a,b):\n",
    "    return a+b\n",
    "    \n",
    "list1 = [1,2,2,5,10,15,20]\n",
    "a=list1[0]\n",
    "for i in range(1,len(list1)):\n",
    "    b = list1[i]\n",
    "    a=add(a,b)\n",
    "print(my_reduce(add,list1))"
   ]
  },
  {
   "cell_type": "code",
   "execution_count": null,
   "id": "caec189d",
   "metadata": {},
   "outputs": [],
   "source": []
  }
 ],
 "metadata": {
  "kernelspec": {
   "display_name": "Python 3",
   "language": "python",
   "name": "python3"
  },
  "language_info": {
   "codemirror_mode": {
    "name": "ipython",
    "version": 3
   },
   "file_extension": ".py",
   "mimetype": "text/x-python",
   "name": "python",
   "nbconvert_exporter": "python",
   "pygments_lexer": "ipython3",
   "version": "3.8.8"
  }
 },
 "nbformat": 4,
 "nbformat_minor": 5
}
